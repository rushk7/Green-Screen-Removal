{
 "cells": [
  {
   "cell_type": "code",
   "execution_count": 1,
   "metadata": {
    "collapsed": true
   },
   "outputs": [],
   "source": [
    "from scipy import misc\n",
    "from sklearn.externals import joblib"
   ]
  },
  {
   "cell_type": "code",
   "execution_count": 23,
   "metadata": {
    "collapsed": true
   },
   "outputs": [],
   "source": [
    "# import cv2\n",
    "# vidcap = cv2.VideoCapture('video.mp4')\n",
    "# fps = vidcap.get(cv2.CAP_PROP_FPS)\n",
    "# print(fps)"
   ]
  },
  {
   "cell_type": "code",
   "execution_count": 24,
   "metadata": {
    "collapsed": true
   },
   "outputs": [],
   "source": [
    "# import cv2\n",
    "# video = cv2.VideoWriter('resultant_video.mp4', cv2.VideoWriter_fourcc(*'mp4v'), , (1280,720),True)"
   ]
  },
  {
   "cell_type": "code",
   "execution_count": 25,
   "metadata": {
    "collapsed": true,
    "scrolled": false
   },
   "outputs": [],
   "source": [
    "\n",
    "# success,image = vidcap.read()\n",
    "# count = 0\n",
    "# success = True\n",
    "# while success:\n",
    "#     success,image = vidcap.read()\n",
    "#     if image == None :\n",
    "#         break\n",
    "#     print(image.shape)\n",
    "    \n",
    "#     video.write(image)\n",
    "    "
   ]
  },
  {
   "cell_type": "code",
   "execution_count": null,
   "metadata": {
    "collapsed": true
   },
   "outputs": [],
   "source": []
  },
  {
   "cell_type": "code",
   "execution_count": 33,
   "metadata": {
    "collapsed": true
   },
   "outputs": [],
   "source": [
    "def green_screen(model,image) :\n",
    "    l = image.shape[0]\n",
    "    h = image.shape[1]\n",
    "    \n",
    "    image = image.reshape((l*h,3))\n",
    "    result = model.predict(image)\n",
    "    for i,x in enumerate(result) :\n",
    "        if x == 1:\n",
    "            image[i][0] = 0\n",
    "            image[i][1] = 255\n",
    "            image[i][2] = 0\n",
    "    image = image.reshape((l,h,3))       \n",
    "    return image"
   ]
  },
  {
   "cell_type": "code",
   "execution_count": 34,
   "metadata": {},
   "outputs": [
    {
     "name": "stdout",
     "output_type": "stream",
     "text": [
      "(576, 1024, 3)\n"
     ]
    }
   ],
   "source": [
    "model = joblib.load('logistic.pkl') \n",
    "im = misc.imread('test_image2.jpg')\n",
    "im1 = green_screen(model,im)\n",
    "print(im1.shape)"
   ]
  },
  {
   "cell_type": "code",
   "execution_count": 35,
   "metadata": {},
   "outputs": [
    {
     "data": {
      "text/plain": [
       "array([[[  0, 255,   0],\n",
       "        [  0, 255,   0],\n",
       "        [  0, 255,   0],\n",
       "        ..., \n",
       "        [  0, 255,   0],\n",
       "        [  0, 255,   0],\n",
       "        [  0, 255,   0]],\n",
       "\n",
       "       [[  0, 255,   0],\n",
       "        [  0, 255,   0],\n",
       "        [  0, 255,   0],\n",
       "        ..., \n",
       "        [  0, 255,   0],\n",
       "        [  0, 255,   0],\n",
       "        [  0, 255,   0]],\n",
       "\n",
       "       [[  0, 255,   0],\n",
       "        [  0, 255,   0],\n",
       "        [  0, 255,   0],\n",
       "        ..., \n",
       "        [  0, 255,   0],\n",
       "        [  0, 255,   0],\n",
       "        [  0, 255,   0]],\n",
       "\n",
       "       ..., \n",
       "       [[  0, 255,   0],\n",
       "        [  0, 255,   0],\n",
       "        [  0, 255,   0],\n",
       "        ..., \n",
       "        [  0, 255,   0],\n",
       "        [  0, 255,   0],\n",
       "        [  0, 255,   0]],\n",
       "\n",
       "       [[  0, 255,   0],\n",
       "        [  0, 255,   0],\n",
       "        [  0, 255,   0],\n",
       "        ..., \n",
       "        [  0, 255,   0],\n",
       "        [  0, 255,   0],\n",
       "        [  0, 255,   0]],\n",
       "\n",
       "       [[  0, 255,   0],\n",
       "        [  0, 255,   0],\n",
       "        [  0, 255,   0],\n",
       "        ..., \n",
       "        [  0, 255,   0],\n",
       "        [  0, 255,   0],\n",
       "        [  0, 255,   0]]], dtype=uint8)"
      ]
     },
     "execution_count": 35,
     "metadata": {},
     "output_type": "execute_result"
    }
   ],
   "source": [
    "im1"
   ]
  },
  {
   "cell_type": "code",
   "execution_count": 36,
   "metadata": {
    "scrolled": true
   },
   "outputs": [
    {
     "data": {
      "text/plain": [
       "(576, 1024, 3)"
      ]
     },
     "execution_count": 36,
     "metadata": {},
     "output_type": "execute_result"
    }
   ],
   "source": [
    "im1.shape"
   ]
  },
  {
   "cell_type": "code",
   "execution_count": null,
   "metadata": {
    "scrolled": true
   },
   "outputs": [
    {
     "name": "stdout",
     "output_type": "stream",
     "text": [
      "23.97601890563965\n",
      "1280\n",
      "720\n",
      "(720, 1280, 3)\n"
     ]
    },
    {
     "name": "stderr",
     "output_type": "stream",
     "text": [
      "/Users/rushabhkhattri/anaconda/lib/python3.6/site-packages/ipykernel_launcher.py:21: FutureWarning: comparison to `None` will result in an elementwise object comparison in the future.\n"
     ]
    },
    {
     "name": "stdout",
     "output_type": "stream",
     "text": [
      "(720, 1280, 3)\n",
      "1\n",
      "(720, 1280, 3)\n",
      "(720, 1280, 3)\n",
      "2\n",
      "(720, 1280, 3)\n",
      "(720, 1280, 3)\n",
      "3\n",
      "(720, 1280, 3)\n",
      "(720, 1280, 3)\n",
      "4\n",
      "(720, 1280, 3)\n",
      "(720, 1280, 3)\n",
      "5\n",
      "(720, 1280, 3)\n",
      "(720, 1280, 3)\n",
      "6\n",
      "(720, 1280, 3)\n",
      "(720, 1280, 3)\n",
      "7\n",
      "(720, 1280, 3)\n",
      "(720, 1280, 3)\n",
      "8\n",
      "(720, 1280, 3)\n",
      "(720, 1280, 3)\n",
      "9\n",
      "(720, 1280, 3)\n",
      "(720, 1280, 3)\n",
      "10\n",
      "(720, 1280, 3)\n",
      "(720, 1280, 3)\n",
      "11\n",
      "(720, 1280, 3)\n",
      "(720, 1280, 3)\n",
      "12\n",
      "(720, 1280, 3)\n",
      "(720, 1280, 3)\n",
      "13\n",
      "(720, 1280, 3)\n",
      "(720, 1280, 3)\n",
      "14\n",
      "(720, 1280, 3)\n",
      "(720, 1280, 3)\n",
      "15\n",
      "(720, 1280, 3)\n",
      "(720, 1280, 3)\n",
      "16\n",
      "(720, 1280, 3)\n",
      "(720, 1280, 3)\n",
      "17\n",
      "(720, 1280, 3)\n",
      "(720, 1280, 3)\n",
      "18\n",
      "(720, 1280, 3)\n",
      "(720, 1280, 3)\n",
      "19\n",
      "(720, 1280, 3)\n",
      "(720, 1280, 3)\n",
      "20\n",
      "(720, 1280, 3)\n",
      "(720, 1280, 3)\n",
      "21\n",
      "(720, 1280, 3)\n",
      "(720, 1280, 3)\n",
      "22\n",
      "(720, 1280, 3)\n",
      "(720, 1280, 3)\n",
      "23\n",
      "(720, 1280, 3)\n",
      "(720, 1280, 3)\n",
      "24\n",
      "(720, 1280, 3)\n",
      "(720, 1280, 3)\n",
      "25\n",
      "(720, 1280, 3)\n",
      "(720, 1280, 3)\n",
      "26\n",
      "(720, 1280, 3)\n",
      "(720, 1280, 3)\n",
      "27\n",
      "(720, 1280, 3)\n",
      "(720, 1280, 3)\n",
      "28\n",
      "(720, 1280, 3)\n",
      "(720, 1280, 3)\n",
      "29\n",
      "(720, 1280, 3)\n",
      "(720, 1280, 3)\n",
      "30\n",
      "(720, 1280, 3)\n",
      "(720, 1280, 3)\n",
      "31\n",
      "(720, 1280, 3)\n",
      "(720, 1280, 3)\n",
      "32\n",
      "(720, 1280, 3)\n",
      "(720, 1280, 3)\n",
      "33\n",
      "(720, 1280, 3)\n",
      "(720, 1280, 3)\n",
      "34\n",
      "(720, 1280, 3)\n",
      "(720, 1280, 3)\n",
      "35\n",
      "(720, 1280, 3)\n",
      "(720, 1280, 3)\n",
      "36\n",
      "(720, 1280, 3)\n",
      "(720, 1280, 3)\n",
      "37\n",
      "(720, 1280, 3)\n",
      "(720, 1280, 3)\n",
      "38\n",
      "(720, 1280, 3)\n",
      "(720, 1280, 3)\n",
      "39\n",
      "(720, 1280, 3)\n",
      "(720, 1280, 3)\n",
      "40\n",
      "(720, 1280, 3)\n",
      "(720, 1280, 3)\n",
      "41\n",
      "(720, 1280, 3)\n",
      "(720, 1280, 3)\n",
      "42\n",
      "(720, 1280, 3)\n",
      "(720, 1280, 3)\n",
      "43\n",
      "(720, 1280, 3)\n",
      "(720, 1280, 3)\n",
      "44\n",
      "(720, 1280, 3)\n",
      "(720, 1280, 3)\n",
      "45\n",
      "(720, 1280, 3)\n",
      "(720, 1280, 3)\n",
      "46\n",
      "(720, 1280, 3)\n",
      "(720, 1280, 3)\n",
      "47\n",
      "(720, 1280, 3)\n",
      "(720, 1280, 3)\n",
      "48\n",
      "(720, 1280, 3)\n",
      "(720, 1280, 3)\n",
      "49\n",
      "(720, 1280, 3)\n",
      "(720, 1280, 3)\n",
      "50\n",
      "(720, 1280, 3)\n",
      "(720, 1280, 3)\n",
      "51\n",
      "(720, 1280, 3)\n"
     ]
    }
   ],
   "source": [
    "#load the  video \n",
    "import cv2\n",
    "vidcap = cv2.VideoCapture('video.mp4')\n",
    "fps = vidcap.get(cv2.CAP_PROP_FPS)\n",
    "print(fps)\n",
    "width = int(vidcap.get(cv2.CAP_PROP_FRAME_WIDTH)  ) # float\n",
    "height = int(vidcap.get(cv2.CAP_PROP_FRAME_HEIGHT))\n",
    "#make a new video\n",
    "import cv2\n",
    "video = cv2.VideoWriter('resultant_video12.mp4', cv2.VideoWriter_fourcc(*'mp4v'), fps, (width,height),True)\n",
    "print(width)\n",
    "print(height)\n",
    "# Let the shit begin\n",
    "\n",
    "\n",
    "success,image = vidcap.read()\n",
    "count = 0\n",
    "success = True\n",
    "while success:\n",
    "    success,image = vidcap.read()\n",
    "    if image == None :\n",
    "        break\n",
    "    print(image.shape)\n",
    "    image = green_screen(model,image)\n",
    "    print(image.shape)\n",
    "    video.write(image)\n",
    "    count += 1\n",
    "    print(count)\n",
    "\n"
   ]
  },
  {
   "cell_type": "code",
   "execution_count": 32,
   "metadata": {
    "collapsed": true
   },
   "outputs": [],
   "source": [
    "video.release()"
   ]
  },
  {
   "cell_type": "code",
   "execution_count": null,
   "metadata": {
    "collapsed": true
   },
   "outputs": [],
   "source": []
  }
 ],
 "metadata": {
  "kernelspec": {
   "display_name": "Python 3",
   "language": "python",
   "name": "python3"
  },
  "language_info": {
   "codemirror_mode": {
    "name": "ipython",
    "version": 3
   },
   "file_extension": ".py",
   "mimetype": "text/x-python",
   "name": "python",
   "nbconvert_exporter": "python",
   "pygments_lexer": "ipython3",
   "version": "3.6.1"
  }
 },
 "nbformat": 4,
 "nbformat_minor": 2
}
